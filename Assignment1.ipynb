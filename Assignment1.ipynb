{
 "cells": [
  {
   "cell_type": "code",
   "execution_count": 4,
   "id": "b9438f16-6bd6-47db-b094-c04acf9e3e7f",
   "metadata": {},
   "outputs": [],
   "source": [
    "# 1.A:-\n",
    "var_str='Deb'\n",
    "var_list=['Deb',15,True]\n",
    "var_float=7.5\n",
    "var_tuple=('Deb',15,1,\"!\")"
   ]
  },
  {
   "cell_type": "code",
   "execution_count": 3,
   "id": "62efd8d3-5307-4ff4-82f9-9d899c9b9287",
   "metadata": {},
   "outputs": [],
   "source": [
    "# 2.A:- i)String ii)String iii)List iv)Float"
   ]
  },
  {
   "cell_type": "code",
   "execution_count": 6,
   "id": "f33dd0bb-b155-47ed-8106-3c6114d62fd0",
   "metadata": {},
   "outputs": [
    {
     "name": "stdout",
     "output_type": "stream",
     "text": [
      "number1/number2 is 11.25 number1%number2 is 1 number1//number2 is 11 number1**number2 is 4100625\n"
     ]
    }
   ],
   "source": [
    "# 3.A:-\n",
    "number1=45\n",
    "number2=4\n",
    "print('number1/number2 is',number1/number2,'number1%number2 is',number1%number2,'number1//number2 is',number1//number2,'number1**number2 is',number1**number2)"
   ]
  },
  {
   "cell_type": "code",
   "execution_count": 7,
   "id": "0478af21-9edb-4573-8c12-6b0be87b8a5c",
   "metadata": {},
   "outputs": [
    {
     "name": "stdout",
     "output_type": "stream",
     "text": [
      "Values = Deb and type of Deb is <class 'str'>\n",
      "Values = 15 and type of 15 is <class 'int'>\n",
      "Values = True and type of True is <class 'bool'>\n",
      "Values = 1 and type of 1 is <class 'int'>\n",
      "Values = N and type of N is <class 'str'>\n",
      "Values = 0 and type of 0 is <class 'int'>\n",
      "Values = ! and type of ! is <class 'str'>\n",
      "Values = 7.54 and type of 7.54 is <class 'float'>\n",
      "Values = ['right', 'wrong'] and type of ['right', 'wrong'] is <class 'list'>\n",
      "Values = {False, True} and type of {False, True} is <class 'set'>\n"
     ]
    }
   ],
   "source": [
    "# 5.A:-\n",
    "values = ['Deb',15,True,1,'N',0,'!',7.54,['right','wrong'],{True,False}]\n",
    "for i in values:\n",
    "    print('Values =',i,'and type of',i,'is',type(i))"
   ]
  },
  {
   "cell_type": "code",
   "execution_count": 9,
   "id": "232db192-293c-4be5-9e5d-ed82afba13ef",
   "metadata": {},
   "outputs": [
    {
     "name": "stdin",
     "output_type": "stream",
     "text": [
      "Enter first number:  24\n",
      "Enter second number:  2\n"
     ]
    },
    {
     "name": "stdout",
     "output_type": "stream",
     "text": [
      "First number( 24 )is divisible by second number( 2 ) 3 times\n"
     ]
    }
   ],
   "source": [
    "# 5.A:-\n",
    "num1 = input('Enter first number: ')\n",
    "num1 = int(num1)\n",
    "num2 = input('Enter second number: ')\n",
    "num2 = int(num2)\n",
    "if(num2==1 or num2==0):\n",
    "    print(\"First number(\",num1,\")is divisible by second number(\",num2,\") infinite times\")\n",
    "else:\n",
    "    if(num1%num2 == 0):\n",
    "        i=0\n",
    "        var=num1\n",
    "        while var!=0 and var%num2==0:\n",
    "            var=var//num2\n",
    "            i=i+1\n",
    "        print(\"First number(\",num1,\")is divisible by second number(\",num2,\")\",i,'times')\n",
    "    else:\n",
    "        print(\"First number(\",num1,\")is not divisible by second number(\",num2,\")\")"
   ]
  },
  {
   "cell_type": "code",
   "execution_count": 17,
   "id": "47ff7d75-0a52-41e3-8f85-af09af448efa",
   "metadata": {},
   "outputs": [
    {
     "name": "stdout",
     "output_type": "stream",
     "text": [
      "ELement number 1 ( 5 ) is not divisible by 3\n",
      "ELement number 2 ( 7 ) is not divisible by 3\n",
      "ELement number 3 ( 8 ) is not divisible by 3\n",
      "ELement number 4 ( 3 ) is divisible by 3\n",
      "ELement number 5 ( 6 ) is divisible by 3\n",
      "ELement number 6 ( 4 ) is not divisible by 3\n",
      "ELement number 7 ( 0 ) is divisible by 3\n",
      "ELement number 8 ( 7 ) is not divisible by 3\n",
      "ELement number 9 ( 54 ) is divisible by 3\n",
      "ELement number 10 ( 66 ) is divisible by 3\n",
      "ELement number 11 ( 32 ) is not divisible by 3\n",
      "ELement number 12 ( 23 ) is not divisible by 3\n",
      "ELement number 13 ( 58 ) is not divisible by 3\n",
      "ELement number 14 ( 9 ) is divisible by 3\n",
      "ELement number 15 ( 91 ) is not divisible by 3\n",
      "ELement number 16 ( 27 ) is divisible by 3\n",
      "ELement number 17 ( 26 ) is not divisible by 3\n",
      "ELement number 18 ( 25 ) is not divisible by 3\n",
      "ELement number 19 ( 27 ) is divisible by 3\n",
      "ELement number 20 ( 38 ) is not divisible by 3\n",
      "ELement number 21 ( 90 ) is divisible by 3\n",
      "ELement number 22 ( 132 ) is divisible by 3\n",
      "ELement number 23 ( 42 ) is divisible by 3\n",
      "ELement number 24 ( 54 ) is divisible by 3\n",
      "ELement number 25 ( 68 ) is not divisible by 3\n"
     ]
    }
   ],
   "source": [
    "# 6.A:-\n",
    "num_list = [5,7,8,3,6,4,0,7,54,66,32,23,58,9,91,27,26,25,27,38,90,132,42,54,68]\n",
    "i=1\n",
    "for j in num_list:\n",
    "    if j%3==0:\n",
    "        print('ELement number',i,'(',j,') is divisible by 3')\n",
    "    else:\n",
    "        print('ELement number',i,'(',j,') is not divisible by 3')\n",
    "    i=i+1"
   ]
  },
  {
   "cell_type": "code",
   "execution_count": null,
   "id": "f50b616e-c13d-4305-bfbd-3be44389ebc3",
   "metadata": {},
   "outputs": [],
   "source": [
    "# 7.A:-\n",
    "\"\"\"Mutable data types are those which can be updated(operations like insert,delete,change) after decleration.\n",
    "Whereas immutable data types are those which cannot be updated(operations like insert,delete,change) after decleration.\n",
    "Examples of mutable data types are lists,dictionaries and sets, whereas example of immutable data types are strings and tuples.\"\"\""
   ]
  }
 ],
 "metadata": {
  "kernelspec": {
   "display_name": "Python 3 (ipykernel)",
   "language": "python",
   "name": "python3"
  },
  "language_info": {
   "codemirror_mode": {
    "name": "ipython",
    "version": 3
   },
   "file_extension": ".py",
   "mimetype": "text/x-python",
   "name": "python",
   "nbconvert_exporter": "python",
   "pygments_lexer": "ipython3",
   "version": "3.10.8"
  }
 },
 "nbformat": 4,
 "nbformat_minor": 5
}
